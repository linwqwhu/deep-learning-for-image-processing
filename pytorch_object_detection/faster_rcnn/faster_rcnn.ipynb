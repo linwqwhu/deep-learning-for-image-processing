{
 "cells": [
  {
   "cell_type": "code",
   "execution_count": null,
   "id": "e34620dc",
   "metadata": {},
   "outputs": [],
   "source": [
    "# 更改类型为GPU"
   ]
  },
  {
   "cell_type": "code",
   "execution_count": null,
   "id": "8f25c173",
   "metadata": {},
   "outputs": [],
   "source": [
    "# 加载云盘\n",
    "from google.colab import drive\n",
    "drive.mount('/content/gdrive')"
   ]
  },
  {
   "cell_type": "code",
   "execution_count": null,
   "id": "82b70430",
   "metadata": {
    "code_folding": []
   },
   "outputs": [],
   "source": [
    "# 数据库\n",
    "%cd /content\n",
    "!wget http://host.robots.ox.ac.uk/pascal/VOC/voc2012/VOCtrainval_11-May-2012.tar\n",
    "!tar -xvf VOCtrainval_11-May-2012.tar"
   ]
  },
  {
   "cell_type": "code",
   "execution_count": null,
   "id": "7d49d1b5",
   "metadata": {},
   "outputs": [],
   "source": [
    "# 将google云盘软连接到根目录\n",
    "%cd /content\n",
    "!ln -s /content/drive/MyDrive/MyColab/pytorch_object_detection/faster_rcnn faster_rcnn\n",
    "!touch testSuccess.txt"
   ]
  },
  {
   "cell_type": "code",
   "execution_count": null,
   "id": "246da9da",
   "metadata": {},
   "outputs": [],
   "source": [
    "# 获取权重\n",
    "%cd /content/faster_rcnn/backbone\n",
    "!wget https://download.pytorch.org/models/mobilenet_v2-b0353104.pth\n",
    "!mv mobilenet_v2-b0353104.pth mobilenet_v2.pth"
   ]
  },
  {
   "cell_type": "code",
   "execution_count": null,
   "id": "4dd3e102",
   "metadata": {},
   "outputs": [],
   "source": [
    "# 执行python文件\n",
    "!python /content/faster_rcnn/train_mobilenetv2.py"
   ]
  },
  {
   "attachments": {},
   "cell_type": "markdown",
   "id": "e14c3ed4",
   "metadata": {},
   "source": [
    "防掉线，F12复制到控制台上\n",
    "```javascript\n",
    "function ConnectButton(){\n",
    "    console.log(\"Connect pushed\");\n",
    "    document.querySelector(\"#top-toolbar > colab-connect-button\").shadowRoot.querySelector(\"#connect\").click()\n",
    "}\n",
    "setInterval(ConnectButton,60000);  # 一分钟一次\n",
    "```"
   ]
  },
  {
   "cell_type": "code",
   "execution_count": null,
   "id": "bac9ec7c",
   "metadata": {},
   "outputs": [],
   "source": [
    "# 防掉线，F12复制到控制台上\n",
    "\n",
    "function ConnectButton(){\n",
    "    console.log(\"Connect pushed\");\n",
    "    document.querySelector(\"#top-toolbar > colab-connect-button\").shadowRoot.querySelector(\"#connect\").click()\n",
    "}\n",
    "setInterval(ConnectButton,60000);  # 一分钟一次\n"
   ]
  }
 ],
 "metadata": {
  "kernelspec": {
   "display_name": "Python 3 (ipykernel)",
   "language": "python",
   "name": "python3"
  },
  "language_info": {
   "codemirror_mode": {
    "name": "ipython",
    "version": 3
   },
   "file_extension": ".py",
   "mimetype": "text/x-python",
   "name": "python",
   "nbconvert_exporter": "python",
   "pygments_lexer": "ipython3",
   "version": "3.10.7"
  },
  "toc": {
   "base_numbering": 1,
   "nav_menu": {},
   "number_sections": true,
   "sideBar": true,
   "skip_h1_title": false,
   "title_cell": "Table of Contents",
   "title_sidebar": "Contents",
   "toc_cell": false,
   "toc_position": {},
   "toc_section_display": true,
   "toc_window_display": false
  }
 },
 "nbformat": 4,
 "nbformat_minor": 5
}
