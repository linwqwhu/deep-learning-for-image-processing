{
 "cells": [
  {
   "cell_type": "code",
   "execution_count": null,
   "id": "e34620dc",
   "metadata": {},
   "outputs": [],
   "source": [
    "# 更改类型为GPU"
   ]
  },
  {
   "cell_type": "code",
   "execution_count": null,
   "id": "8f25c173",
   "metadata": {},
   "outputs": [],
   "source": [
    "# 加载云盘\n",
    "from google.colab import drive\n",
    "drive.mount('/content/gdrive')"
   ]
  },
  {
   "cell_type": "code",
   "execution_count": null,
   "id": "82b70430",
   "metadata": {
    "code_folding": []
   },
   "outputs": [],
   "source": [
    "# 复制项目\n",
    "\n",
    "# 方式一：使用git从GitHub下载\n",
    "# %cd /content\n",
    "# !pwd\n",
    "# !git clone https://github.com/bubbliiiing/faster-rcnn-tf2.git\n",
    "# %cd faster-rcnn-tf2/\n",
    "# print(\"复制完成\")\n",
    "\n",
    "# 方式二：从云盘上复制过来\n",
    "import shutil\n",
    "oldpath = '/content/drive/MyDrive/MyColab/pytorch_classification/test_6_mobilenet'\n",
    "newpath = '/content/test_6_mobilenet'\n",
    "shutil.copytree(oldpath,newpath)\n",
    "%cd test_2_alexnet\n",
    "print(\"复制完成\")\n"
   ]
  },
  {
   "cell_type": "code",
   "execution_count": null,
   "id": "a843e56a",
   "metadata": {},
   "outputs": [],
   "source": [
    "# 将项目里的数据集文件夹删除（因为只有空文件夹）\n",
    "!rm -rf ./datasets\n",
    "!mkdir datasets  # 重新创建"
   ]
  },
  {
   "cell_type": "code",
   "execution_count": null,
   "id": "7d49d1b5",
   "metadata": {},
   "outputs": [],
   "source": [
    "# 复制数据集压缩包并解压\n",
    "# %cd ./datasets\n",
    "# !cp /content/drive/MyDrive/MyColab/pytorch_classification/test_2_alexnet/datasets/VOC07+12+test.zip ./\n",
    "# !unzip ./VOC07+12+test.zip -d ./\n",
    "# 文件夹形式可以直接利用上面的复制方法\n",
    "\n",
    "\n",
    "# 或者网上下载\n",
    "!mkdir datasets\n",
    "%cd /content/test_2_alexnet/datasets/\n",
    "!wget https://storage.googleapis.com/download.tensorflow.org/example_images/flower_photos.tgz\n",
    "!tar zxvf flower_photos.tgz"
   ]
  },
  {
   "cell_type": "code",
   "execution_count": null,
   "id": "d4944e06",
   "metadata": {},
   "outputs": [],
   "source": [
    "# 将数据集分离\n",
    "torch spilt.py"
   ]
  },
  {
   "cell_type": "code",
   "execution_count": null,
   "id": "29290f7f",
   "metadata": {},
   "outputs": [],
   "source": [
    "import os\n",
    "from shutil import copy, rmtree\n",
    "import random\n",
    "\n",
    "\n",
    "def mk_file(file_path: str):\n",
    "    if os.path.exists(file_path):\n",
    "        # 如果文件夹存在，则先删除原文件夹在重新创建\n",
    "        rmtree(file_path)\n",
    "    os.makedirs(file_path)\n",
    "\n",
    "\n",
    "def main():\n",
    "    # 保证随机可复现\n",
    "    random.seed(0)\n",
    "\n",
    "    # 将数据集中10%的数据划分到验证集中\n",
    "    split_rate = 0.1\n",
    "\n",
    "    # 指向你解压后的flower_photos文件夹\n",
    "    data_root = \"/content/test_5_resnet/dataset/flower_data\"\n",
    "    origin_flower_path = os.path.join(data_root, \"flower_photos\")\n",
    "    assert os.path.exists(origin_flower_path), \"path '{}' does not exist.\".format(origin_flower_path)\n",
    "\n",
    "    flower_class = [cla for cla in os.listdir(origin_flower_path)\n",
    "                    if os.path.isdir(os.path.join(origin_flower_path, cla))]\n",
    "\n",
    "    # 建立保存训练集的文件夹\n",
    "    train_root = os.path.join(data_root, \"train\")\n",
    "    mk_file(train_root)\n",
    "    for cla in flower_class:\n",
    "        # 建立每个类别对应的文件夹\n",
    "        mk_file(os.path.join(train_root, cla))\n",
    "\n",
    "    # 建立保存验证集的文件夹\n",
    "    val_root = os.path.join(data_root, \"val\")\n",
    "    mk_file(val_root)\n",
    "    for cla in flower_class:\n",
    "        # 建立每个类别对应的文件夹\n",
    "        mk_file(os.path.join(val_root, cla))\n",
    "\n",
    "    for cla in flower_class:\n",
    "        cla_path = os.path.join(origin_flower_path, cla)\n",
    "        images = os.listdir(cla_path)\n",
    "        num = len(images)\n",
    "        # 随机采样验证集的索引\n",
    "        eval_index = random.sample(images, k=int(num*split_rate))\n",
    "        for index, image in enumerate(images):\n",
    "            if image in eval_index:\n",
    "                # 将分配至验证集中的文件复制到相应目录\n",
    "                image_path = os.path.join(cla_path, image)\n",
    "                new_path = os.path.join(val_root, cla)\n",
    "                copy(image_path, new_path)\n",
    "            else:\n",
    "                # 将分配至训练集中的文件复制到相应目录\n",
    "                image_path = os.path.join(cla_path, image)\n",
    "                new_path = os.path.join(train_root, cla)\n",
    "                copy(image_path, new_path)\n",
    "            print(\"\\r[{}] processing [{}/{}]\".format(cla, index+1, num), end=\"\")  # processing bar\n",
    "        print()\n",
    "\n",
    "    print(\"processing done!\")\n",
    "\n",
    "\n",
    "if __name__ == '__main__':\n",
    "    main()"
   ]
  },
  {
   "cell_type": "code",
   "execution_count": null,
   "id": "5c16348c",
   "metadata": {},
   "outputs": [],
   "source": [
    "# 将google云盘软连接到根目录下，即使断线，权值也保留在云盘中\n",
    "%cd /content/test_2_alexnet\n",
    "!rm -rf logs\n",
    "!ln -s /content/drive/MyDrive/MyColab/pytorch_classification/test_2_alexnet/logs logs\n",
    "!touch testSuccess.txt"
   ]
  },
  {
   "cell_type": "code",
   "execution_count": null,
   "id": "4dd3e102",
   "metadata": {},
   "outputs": [],
   "source": [
    "# 执行python文件\n",
    "!python /content/test_2_alexnet/train.py"
   ]
  },
  {
   "attachments": {},
   "cell_type": "markdown",
   "id": "e14c3ed4",
   "metadata": {},
   "source": [
    "防掉线，F12复制到控制台上\n",
    "```javascript\n",
    "function ConnectButton(){\n",
    "    console.log(\"Connect pushed\");\n",
    "    document.querySelector(\"#top-toolbar > colab-connect-button\").shadowRoot.querySelector(\"#connect\").click()\n",
    "}\n",
    "setInterval(ConnectButton,60000);  # 一分钟一次\n",
    "```"
   ]
  },
  {
   "cell_type": "code",
   "execution_count": null,
   "id": "bac9ec7c",
   "metadata": {},
   "outputs": [],
   "source": [
    "# 防掉线，F12复制到控制台上\n",
    "\n",
    "function ConnectButton(){\n",
    "    console.log(\"Connect pushed\");\n",
    "    document.querySelector(\"#top-toolbar > colab-connect-button\").shadowRoot.querySelector(\"#connect\").click()\n",
    "}\n",
    "setInterval(ConnectButton,60000);  # 一分钟一次\n"
   ]
  }
 ],
 "metadata": {
  "kernelspec": {
   "display_name": "Python 3 (ipykernel)",
   "language": "python",
   "name": "python3"
  },
  "language_info": {
   "codemirror_mode": {
    "name": "ipython",
    "version": 3
   },
   "file_extension": ".py",
   "mimetype": "text/x-python",
   "name": "python",
   "nbconvert_exporter": "python",
   "pygments_lexer": "ipython3",
   "version": "3.10.7"
  },
  "toc": {
   "base_numbering": 1,
   "nav_menu": {},
   "number_sections": true,
   "sideBar": true,
   "skip_h1_title": false,
   "title_cell": "Table of Contents",
   "title_sidebar": "Contents",
   "toc_cell": false,
   "toc_position": {},
   "toc_section_display": true,
   "toc_window_display": false
  }
 },
 "nbformat": 4,
 "nbformat_minor": 5
}
